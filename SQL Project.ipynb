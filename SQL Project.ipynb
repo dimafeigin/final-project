{
 "cells": [
  {
   "cell_type": "markdown",
   "id": "cdcfb795",
   "metadata": {},
   "source": [
    "<div style=\"border:solid Chocolate 2px; padding: 40px\">\n",
    "\n",
    "<b>Hello, Dima!👋 How are you today?</b>\n",
    "    \n",
    "My name is Arina U. and I am glad to be your reviewer in this project! Nice to meet you!💪😎<br />\n",
    "\n",
    "\n",
    "You can find my comments in <font color='green'>green</font>, <font color='gold'>yellow</font> and <font color='red'>red</font> boxes. Examples you can see below:\n",
    "    \n",
    "<div class=\"alert alert-block alert-success\">\n",
    "    <h2>Reviewer's commentary <a class=\"tocSkip\"> </h2>\n",
    "    <br/>\n",
    "<b>Well done!👍:</b> In case if task is completely correct and everything is alright!\n",
    "</div>\n",
    "\n",
    "\n",
    "<div class=\"alert alert-block alert-warning\">\n",
    "   <h2>Reviewer's commentary <a class=\"tocSkip\"> </h2>\n",
    "    <br/>\n",
    "<b>Remarks and recommendations📌:</b>  In case when I can give some advice that can help you to improve your work or recommend you some useful links and resources that can help you widen your knowledge and help in future tasks.\n",
    "</div>\n",
    "\n",
    "<div class=\"alert alert-block alert-danger\">\n",
    "    <h2>Reviewer's commentary <a class=\"tocSkip\"> </h2>\n",
    "    <br/>\n",
    "<b>Needs fixing!🤔:</b> In case when step requires some extra work and some corrections. Project can't be accepted with comments in the red boxes\n",
    "</div>\n",
    "\n",
    "Please pay attention to not move or change my comments. It would be good to highlight your answers in some way. \n",
    "\n",
    "#### <font color='Purple'>Student's commentary:</font> for example like this <a class=\"tocSkip\"> </div>\n",
    "    \n",
    "OK, now let's go!😏\n",
    "</font>"
   ]
  },
  {
   "cell_type": "code",
   "execution_count": 1,
   "id": "86c164ad",
   "metadata": {},
   "outputs": [],
   "source": [
    "#pip install psycopg2-binary \n"
   ]
  },
  {
   "cell_type": "markdown",
   "id": "fe83c486",
   "metadata": {},
   "source": [
    "## Step1  Download the data and prepare it for analysis"
   ]
  },
  {
   "cell_type": "code",
   "execution_count": 2,
   "id": "60599ddf",
   "metadata": {},
   "outputs": [],
   "source": [
    "# import libraries\n",
    "import pandas as pd\n",
    "from sqlalchemy import create_engine"
   ]
  },
  {
   "cell_type": "code",
   "execution_count": 3,
   "id": "fec795f9",
   "metadata": {},
   "outputs": [],
   "source": [
    "db_config = {'user': 'praktikum_student',         # user name\n",
    "             'pwd': 'Sdf4$2;d-d30pp', # password\n",
    "             'host': 'rc1b-wcoijxj3yxfsf3fs.mdb.yandexcloud.net',\n",
    "             'port': 6432,              # connection port\n",
    "             'db': 'data-analyst-final-project-db'}          # the name of the data base\n",
    "\n",
    "connection_string = 'postgresql://{}:{}@{}:{}/{}'.format(db_config['user'],\n",
    "                                                                     db_config['pwd'],\n",
    "                                                                       db_config['host'],\n",
    "                                                                       db_config['port'],\n",
    "                                                                       db_config['db'])\n",
    "\n",
    "engine = create_engine(connection_string, connect_args={'sslmode':'require'})"
   ]
  },
  {
   "cell_type": "markdown",
   "id": "932e475a",
   "metadata": {},
   "source": [
    "## Step2 Download the data and prepare it for analysis"
   ]
  },
  {
   "cell_type": "markdown",
   "id": "cb84b165",
   "metadata": {},
   "source": [
    "### 2.1 Table \"books\"\n"
   ]
  },
  {
   "cell_type": "code",
   "execution_count": 4,
   "id": "872bfb04",
   "metadata": {},
   "outputs": [],
   "source": [
    "query = \"\"\"\n",
    "SELECT *\n",
    "FROM books\n",
    "limit 5\n",
    "\"\"\""
   ]
  },
  {
   "cell_type": "code",
   "execution_count": 5,
   "id": "92983585",
   "metadata": {},
   "outputs": [
    {
     "data": {
      "text/html": [
       "<div>\n",
       "<style scoped>\n",
       "    .dataframe tbody tr th:only-of-type {\n",
       "        vertical-align: middle;\n",
       "    }\n",
       "\n",
       "    .dataframe tbody tr th {\n",
       "        vertical-align: top;\n",
       "    }\n",
       "\n",
       "    .dataframe thead th {\n",
       "        text-align: right;\n",
       "    }\n",
       "</style>\n",
       "<table border=\"1\" class=\"dataframe\">\n",
       "  <thead>\n",
       "    <tr style=\"text-align: right;\">\n",
       "      <th></th>\n",
       "      <th>book_id</th>\n",
       "      <th>author_id</th>\n",
       "      <th>title</th>\n",
       "      <th>num_pages</th>\n",
       "      <th>publication_date</th>\n",
       "      <th>publisher_id</th>\n",
       "    </tr>\n",
       "  </thead>\n",
       "  <tbody>\n",
       "    <tr>\n",
       "      <th>0</th>\n",
       "      <td>1</td>\n",
       "      <td>546</td>\n",
       "      <td>'Salem's Lot</td>\n",
       "      <td>594</td>\n",
       "      <td>2005-11-01</td>\n",
       "      <td>93</td>\n",
       "    </tr>\n",
       "    <tr>\n",
       "      <th>1</th>\n",
       "      <td>2</td>\n",
       "      <td>465</td>\n",
       "      <td>1 000 Places to See Before You Die</td>\n",
       "      <td>992</td>\n",
       "      <td>2003-05-22</td>\n",
       "      <td>336</td>\n",
       "    </tr>\n",
       "    <tr>\n",
       "      <th>2</th>\n",
       "      <td>3</td>\n",
       "      <td>407</td>\n",
       "      <td>13 Little Blue Envelopes (Little Blue Envelope...</td>\n",
       "      <td>322</td>\n",
       "      <td>2010-12-21</td>\n",
       "      <td>135</td>\n",
       "    </tr>\n",
       "    <tr>\n",
       "      <th>3</th>\n",
       "      <td>4</td>\n",
       "      <td>82</td>\n",
       "      <td>1491: New Revelations of the Americas Before C...</td>\n",
       "      <td>541</td>\n",
       "      <td>2006-10-10</td>\n",
       "      <td>309</td>\n",
       "    </tr>\n",
       "    <tr>\n",
       "      <th>4</th>\n",
       "      <td>5</td>\n",
       "      <td>125</td>\n",
       "      <td>1776</td>\n",
       "      <td>386</td>\n",
       "      <td>2006-07-04</td>\n",
       "      <td>268</td>\n",
       "    </tr>\n",
       "  </tbody>\n",
       "</table>\n",
       "</div>"
      ],
      "text/plain": [
       "   book_id  author_id                                              title  \\\n",
       "0        1        546                                       'Salem's Lot   \n",
       "1        2        465                 1 000 Places to See Before You Die   \n",
       "2        3        407  13 Little Blue Envelopes (Little Blue Envelope...   \n",
       "3        4         82  1491: New Revelations of the Americas Before C...   \n",
       "4        5        125                                               1776   \n",
       "\n",
       "   num_pages publication_date  publisher_id  \n",
       "0        594       2005-11-01            93  \n",
       "1        992       2003-05-22           336  \n",
       "2        322       2010-12-21           135  \n",
       "3        541       2006-10-10           309  \n",
       "4        386       2006-07-04           268  "
      ]
     },
     "metadata": {},
     "output_type": "display_data"
    }
   ],
   "source": [
    "results = pd.io.sql.read_sql(query, con = engine)\n",
    "\n",
    "display(results)"
   ]
  },
  {
   "cell_type": "markdown",
   "id": "74e81c97",
   "metadata": {},
   "source": [
    "### 2.2 Table \"authors\""
   ]
  },
  {
   "cell_type": "code",
   "execution_count": 6,
   "id": "6e699d00",
   "metadata": {},
   "outputs": [],
   "source": [
    "query = \"\"\"\n",
    "SELECT *\n",
    "FROM authors\n",
    "limit 5\n",
    "\"\"\""
   ]
  },
  {
   "cell_type": "code",
   "execution_count": 7,
   "id": "533011c0",
   "metadata": {},
   "outputs": [
    {
     "data": {
      "text/html": [
       "<div>\n",
       "<style scoped>\n",
       "    .dataframe tbody tr th:only-of-type {\n",
       "        vertical-align: middle;\n",
       "    }\n",
       "\n",
       "    .dataframe tbody tr th {\n",
       "        vertical-align: top;\n",
       "    }\n",
       "\n",
       "    .dataframe thead th {\n",
       "        text-align: right;\n",
       "    }\n",
       "</style>\n",
       "<table border=\"1\" class=\"dataframe\">\n",
       "  <thead>\n",
       "    <tr style=\"text-align: right;\">\n",
       "      <th></th>\n",
       "      <th>author_id</th>\n",
       "      <th>author</th>\n",
       "    </tr>\n",
       "  </thead>\n",
       "  <tbody>\n",
       "    <tr>\n",
       "      <th>0</th>\n",
       "      <td>1</td>\n",
       "      <td>A.S. Byatt</td>\n",
       "    </tr>\n",
       "    <tr>\n",
       "      <th>1</th>\n",
       "      <td>2</td>\n",
       "      <td>Aesop/Laura Harris/Laura Gibbs</td>\n",
       "    </tr>\n",
       "    <tr>\n",
       "      <th>2</th>\n",
       "      <td>3</td>\n",
       "      <td>Agatha Christie</td>\n",
       "    </tr>\n",
       "    <tr>\n",
       "      <th>3</th>\n",
       "      <td>4</td>\n",
       "      <td>Alan Brennert</td>\n",
       "    </tr>\n",
       "    <tr>\n",
       "      <th>4</th>\n",
       "      <td>5</td>\n",
       "      <td>Alan Moore/David   Lloyd</td>\n",
       "    </tr>\n",
       "  </tbody>\n",
       "</table>\n",
       "</div>"
      ],
      "text/plain": [
       "   author_id                          author\n",
       "0          1                      A.S. Byatt\n",
       "1          2  Aesop/Laura Harris/Laura Gibbs\n",
       "2          3                 Agatha Christie\n",
       "3          4                   Alan Brennert\n",
       "4          5        Alan Moore/David   Lloyd"
      ]
     },
     "metadata": {},
     "output_type": "display_data"
    }
   ],
   "source": [
    "results = pd.io.sql.read_sql(query, con = engine)\n",
    "\n",
    "display(results)"
   ]
  },
  {
   "cell_type": "markdown",
   "id": "9361bb7b",
   "metadata": {},
   "source": [
    "### 2.3 Table \"publishers\""
   ]
  },
  {
   "cell_type": "code",
   "execution_count": 8,
   "id": "f23d3e8a",
   "metadata": {},
   "outputs": [],
   "source": [
    "query = \"\"\"\n",
    "SELECT *\n",
    "FROM publishers\n",
    "limit 5\n",
    "\"\"\""
   ]
  },
  {
   "cell_type": "code",
   "execution_count": 9,
   "id": "2193b95b",
   "metadata": {},
   "outputs": [
    {
     "data": {
      "text/html": [
       "<div>\n",
       "<style scoped>\n",
       "    .dataframe tbody tr th:only-of-type {\n",
       "        vertical-align: middle;\n",
       "    }\n",
       "\n",
       "    .dataframe tbody tr th {\n",
       "        vertical-align: top;\n",
       "    }\n",
       "\n",
       "    .dataframe thead th {\n",
       "        text-align: right;\n",
       "    }\n",
       "</style>\n",
       "<table border=\"1\" class=\"dataframe\">\n",
       "  <thead>\n",
       "    <tr style=\"text-align: right;\">\n",
       "      <th></th>\n",
       "      <th>publisher_id</th>\n",
       "      <th>publisher</th>\n",
       "    </tr>\n",
       "  </thead>\n",
       "  <tbody>\n",
       "    <tr>\n",
       "      <th>0</th>\n",
       "      <td>1</td>\n",
       "      <td>Ace</td>\n",
       "    </tr>\n",
       "    <tr>\n",
       "      <th>1</th>\n",
       "      <td>2</td>\n",
       "      <td>Ace Book</td>\n",
       "    </tr>\n",
       "    <tr>\n",
       "      <th>2</th>\n",
       "      <td>3</td>\n",
       "      <td>Ace Books</td>\n",
       "    </tr>\n",
       "    <tr>\n",
       "      <th>3</th>\n",
       "      <td>4</td>\n",
       "      <td>Ace Hardcover</td>\n",
       "    </tr>\n",
       "    <tr>\n",
       "      <th>4</th>\n",
       "      <td>5</td>\n",
       "      <td>Addison Wesley Publishing Company</td>\n",
       "    </tr>\n",
       "  </tbody>\n",
       "</table>\n",
       "</div>"
      ],
      "text/plain": [
       "   publisher_id                          publisher\n",
       "0             1                                Ace\n",
       "1             2                           Ace Book\n",
       "2             3                          Ace Books\n",
       "3             4                      Ace Hardcover\n",
       "4             5  Addison Wesley Publishing Company"
      ]
     },
     "metadata": {},
     "output_type": "display_data"
    }
   ],
   "source": [
    "results = pd.io.sql.read_sql(query, con = engine)\n",
    "\n",
    "display(results)"
   ]
  },
  {
   "cell_type": "markdown",
   "id": "5ba78c5e",
   "metadata": {},
   "source": [
    "### 2.4 Table \"ratings\""
   ]
  },
  {
   "cell_type": "code",
   "execution_count": 10,
   "id": "705871b4",
   "metadata": {},
   "outputs": [],
   "source": [
    "query = \"\"\"\n",
    "SELECT *\n",
    "FROM ratings\n",
    "limit 5\n",
    "\"\"\""
   ]
  },
  {
   "cell_type": "code",
   "execution_count": 11,
   "id": "4baf809c",
   "metadata": {},
   "outputs": [
    {
     "data": {
      "text/html": [
       "<div>\n",
       "<style scoped>\n",
       "    .dataframe tbody tr th:only-of-type {\n",
       "        vertical-align: middle;\n",
       "    }\n",
       "\n",
       "    .dataframe tbody tr th {\n",
       "        vertical-align: top;\n",
       "    }\n",
       "\n",
       "    .dataframe thead th {\n",
       "        text-align: right;\n",
       "    }\n",
       "</style>\n",
       "<table border=\"1\" class=\"dataframe\">\n",
       "  <thead>\n",
       "    <tr style=\"text-align: right;\">\n",
       "      <th></th>\n",
       "      <th>rating_id</th>\n",
       "      <th>book_id</th>\n",
       "      <th>username</th>\n",
       "      <th>rating</th>\n",
       "    </tr>\n",
       "  </thead>\n",
       "  <tbody>\n",
       "    <tr>\n",
       "      <th>0</th>\n",
       "      <td>1</td>\n",
       "      <td>1</td>\n",
       "      <td>ryanfranco</td>\n",
       "      <td>4</td>\n",
       "    </tr>\n",
       "    <tr>\n",
       "      <th>1</th>\n",
       "      <td>2</td>\n",
       "      <td>1</td>\n",
       "      <td>grantpatricia</td>\n",
       "      <td>2</td>\n",
       "    </tr>\n",
       "    <tr>\n",
       "      <th>2</th>\n",
       "      <td>3</td>\n",
       "      <td>1</td>\n",
       "      <td>brandtandrea</td>\n",
       "      <td>5</td>\n",
       "    </tr>\n",
       "    <tr>\n",
       "      <th>3</th>\n",
       "      <td>4</td>\n",
       "      <td>2</td>\n",
       "      <td>lorichen</td>\n",
       "      <td>3</td>\n",
       "    </tr>\n",
       "    <tr>\n",
       "      <th>4</th>\n",
       "      <td>5</td>\n",
       "      <td>2</td>\n",
       "      <td>mariokeller</td>\n",
       "      <td>2</td>\n",
       "    </tr>\n",
       "  </tbody>\n",
       "</table>\n",
       "</div>"
      ],
      "text/plain": [
       "   rating_id  book_id       username  rating\n",
       "0          1        1     ryanfranco       4\n",
       "1          2        1  grantpatricia       2\n",
       "2          3        1   brandtandrea       5\n",
       "3          4        2       lorichen       3\n",
       "4          5        2    mariokeller       2"
      ]
     },
     "metadata": {},
     "output_type": "display_data"
    }
   ],
   "source": [
    "results = pd.io.sql.read_sql(query, con = engine)\n",
    "\n",
    "display(results)"
   ]
  },
  {
   "cell_type": "markdown",
   "id": "cf2ac578",
   "metadata": {},
   "source": [
    "### 2.5 Table \"reviews\""
   ]
  },
  {
   "cell_type": "code",
   "execution_count": 12,
   "id": "577943ce",
   "metadata": {},
   "outputs": [],
   "source": [
    "query = \"\"\"\n",
    "SELECT *\n",
    "FROM reviews\n",
    "limit 5\n",
    "\"\"\""
   ]
  },
  {
   "cell_type": "code",
   "execution_count": 13,
   "id": "bb9cdf37",
   "metadata": {},
   "outputs": [
    {
     "data": {
      "text/html": [
       "<div>\n",
       "<style scoped>\n",
       "    .dataframe tbody tr th:only-of-type {\n",
       "        vertical-align: middle;\n",
       "    }\n",
       "\n",
       "    .dataframe tbody tr th {\n",
       "        vertical-align: top;\n",
       "    }\n",
       "\n",
       "    .dataframe thead th {\n",
       "        text-align: right;\n",
       "    }\n",
       "</style>\n",
       "<table border=\"1\" class=\"dataframe\">\n",
       "  <thead>\n",
       "    <tr style=\"text-align: right;\">\n",
       "      <th></th>\n",
       "      <th>review_id</th>\n",
       "      <th>book_id</th>\n",
       "      <th>username</th>\n",
       "      <th>text</th>\n",
       "    </tr>\n",
       "  </thead>\n",
       "  <tbody>\n",
       "    <tr>\n",
       "      <th>0</th>\n",
       "      <td>1</td>\n",
       "      <td>1</td>\n",
       "      <td>brandtandrea</td>\n",
       "      <td>Mention society tell send professor analysis. ...</td>\n",
       "    </tr>\n",
       "    <tr>\n",
       "      <th>1</th>\n",
       "      <td>2</td>\n",
       "      <td>1</td>\n",
       "      <td>ryanfranco</td>\n",
       "      <td>Foot glass pretty audience hit themselves. Amo...</td>\n",
       "    </tr>\n",
       "    <tr>\n",
       "      <th>2</th>\n",
       "      <td>3</td>\n",
       "      <td>2</td>\n",
       "      <td>lorichen</td>\n",
       "      <td>Listen treat keep worry. Miss husband tax but ...</td>\n",
       "    </tr>\n",
       "    <tr>\n",
       "      <th>3</th>\n",
       "      <td>4</td>\n",
       "      <td>3</td>\n",
       "      <td>johnsonamanda</td>\n",
       "      <td>Finally month interesting blue could nature cu...</td>\n",
       "    </tr>\n",
       "    <tr>\n",
       "      <th>4</th>\n",
       "      <td>5</td>\n",
       "      <td>3</td>\n",
       "      <td>scotttamara</td>\n",
       "      <td>Nation purpose heavy give wait song will. List...</td>\n",
       "    </tr>\n",
       "  </tbody>\n",
       "</table>\n",
       "</div>"
      ],
      "text/plain": [
       "   review_id  book_id       username  \\\n",
       "0          1        1   brandtandrea   \n",
       "1          2        1     ryanfranco   \n",
       "2          3        2       lorichen   \n",
       "3          4        3  johnsonamanda   \n",
       "4          5        3    scotttamara   \n",
       "\n",
       "                                                text  \n",
       "0  Mention society tell send professor analysis. ...  \n",
       "1  Foot glass pretty audience hit themselves. Amo...  \n",
       "2  Listen treat keep worry. Miss husband tax but ...  \n",
       "3  Finally month interesting blue could nature cu...  \n",
       "4  Nation purpose heavy give wait song will. List...  "
      ]
     },
     "metadata": {},
     "output_type": "display_data"
    }
   ],
   "source": [
    "results = pd.io.sql.read_sql(query, con = engine)\n",
    "\n",
    "display(results)"
   ]
  },
  {
   "cell_type": "markdown",
   "id": "3683f56e",
   "metadata": {},
   "source": [
    "<div class=\"alert alert-block alert-success\">\n",
    "    <h2>Reviewer's commentary <a class=\"tocSkip\"> </h2>\n",
    "    <br/>\n",
    "<b>Well done!👍:</b> \n",
    "        \n",
    "Ok, you managed to investigate the data in detail let's move on!\n",
    "</div>"
   ]
  },
  {
   "cell_type": "markdown",
   "id": "cc965b0e",
   "metadata": {},
   "source": [
    "## Step 3. Tasks"
   ]
  },
  {
   "cell_type": "markdown",
   "id": "9e0e0fdc",
   "metadata": {},
   "source": [
    "### 3.1 Number of books published after January 1, 2000\n"
   ]
  },
  {
   "cell_type": "code",
   "execution_count": 14,
   "id": "a4c0f483",
   "metadata": {},
   "outputs": [
    {
     "data": {
      "text/html": [
       "<div>\n",
       "<style scoped>\n",
       "    .dataframe tbody tr th:only-of-type {\n",
       "        vertical-align: middle;\n",
       "    }\n",
       "\n",
       "    .dataframe tbody tr th {\n",
       "        vertical-align: top;\n",
       "    }\n",
       "\n",
       "    .dataframe thead th {\n",
       "        text-align: right;\n",
       "    }\n",
       "</style>\n",
       "<table border=\"1\" class=\"dataframe\">\n",
       "  <thead>\n",
       "    <tr style=\"text-align: right;\">\n",
       "      <th></th>\n",
       "      <th>count_books</th>\n",
       "    </tr>\n",
       "  </thead>\n",
       "  <tbody>\n",
       "    <tr>\n",
       "      <th>0</th>\n",
       "      <td>819</td>\n",
       "    </tr>\n",
       "  </tbody>\n",
       "</table>\n",
       "</div>"
      ],
      "text/plain": [
       "   count_books\n",
       "0          819"
      ]
     },
     "metadata": {},
     "output_type": "display_data"
    }
   ],
   "source": [
    "query_task1 = \"\"\"\n",
    "-- Find the number of books released after January 1, 2000.\n",
    "SELECT COUNT(*) as count_books\n",
    "FROM books\n",
    "WHERE publication_date > '2000-01-01';  \n",
    "\"\"\"\n",
    "results = pd.io.sql.read_sql(query_task1, con = engine)\n",
    "display(results)"
   ]
  },
  {
   "cell_type": "markdown",
   "id": "d9152512",
   "metadata": {},
   "source": [
    "**After performing the query, we found out that 819 books were published after 01/01/2000**"
   ]
  },
  {
   "cell_type": "markdown",
   "id": "88d9bc4f",
   "metadata": {},
   "source": [
    "<div class=\"alert alert-block alert-success\">\n",
    "    <h2>Reviewer's commentary <a class=\"tocSkip\"> </h2>\n",
    "    <br/>\n",
    "<b>Well done!👍:</b> \n",
    "        \n",
    "Correct result here!\n",
    "</div>"
   ]
  },
  {
   "cell_type": "markdown",
   "id": "89c72aa8",
   "metadata": {},
   "source": [
    "### 3.2 Find out the number of user reviews and the average rating for each book."
   ]
  },
  {
   "cell_type": "code",
   "execution_count": 15,
   "id": "d621435d",
   "metadata": {},
   "outputs": [
    {
     "data": {
      "text/html": [
       "<div>\n",
       "<style scoped>\n",
       "    .dataframe tbody tr th:only-of-type {\n",
       "        vertical-align: middle;\n",
       "    }\n",
       "\n",
       "    .dataframe tbody tr th {\n",
       "        vertical-align: top;\n",
       "    }\n",
       "\n",
       "    .dataframe thead th {\n",
       "        text-align: right;\n",
       "    }\n",
       "</style>\n",
       "<table border=\"1\" class=\"dataframe\">\n",
       "  <thead>\n",
       "    <tr style=\"text-align: right;\">\n",
       "      <th></th>\n",
       "      <th>book_id</th>\n",
       "      <th>author</th>\n",
       "      <th>title</th>\n",
       "      <th>number_users_reviews</th>\n",
       "      <th>average_rating</th>\n",
       "    </tr>\n",
       "  </thead>\n",
       "  <tbody>\n",
       "    <tr>\n",
       "      <th>0</th>\n",
       "      <td>948</td>\n",
       "      <td>Stephenie Meyer</td>\n",
       "      <td>Twilight (Twilight  #1)</td>\n",
       "      <td>1120</td>\n",
       "      <td>3.66</td>\n",
       "    </tr>\n",
       "    <tr>\n",
       "      <th>1</th>\n",
       "      <td>750</td>\n",
       "      <td>J.R.R. Tolkien</td>\n",
       "      <td>The Hobbit  or There and Back Again</td>\n",
       "      <td>528</td>\n",
       "      <td>4.13</td>\n",
       "    </tr>\n",
       "    <tr>\n",
       "      <th>2</th>\n",
       "      <td>673</td>\n",
       "      <td>J.D. Salinger</td>\n",
       "      <td>The Catcher in the Rye</td>\n",
       "      <td>516</td>\n",
       "      <td>3.83</td>\n",
       "    </tr>\n",
       "    <tr>\n",
       "      <th>3</th>\n",
       "      <td>302</td>\n",
       "      <td>J.K. Rowling/Mary GrandPré</td>\n",
       "      <td>Harry Potter and the Prisoner of Azkaban (Harr...</td>\n",
       "      <td>492</td>\n",
       "      <td>4.41</td>\n",
       "    </tr>\n",
       "    <tr>\n",
       "      <th>4</th>\n",
       "      <td>299</td>\n",
       "      <td>J.K. Rowling/Mary GrandPré</td>\n",
       "      <td>Harry Potter and the Chamber of Secrets (Harry...</td>\n",
       "      <td>480</td>\n",
       "      <td>4.29</td>\n",
       "    </tr>\n",
       "    <tr>\n",
       "      <th>...</th>\n",
       "      <td>...</td>\n",
       "      <td>...</td>\n",
       "      <td>...</td>\n",
       "      <td>...</td>\n",
       "      <td>...</td>\n",
       "    </tr>\n",
       "    <tr>\n",
       "      <th>995</th>\n",
       "      <td>221</td>\n",
       "      <td>Edgar Allan Poe/Benjamin F. Fisher</td>\n",
       "      <td>Essential Tales and Poems</td>\n",
       "      <td>0</td>\n",
       "      <td>4.00</td>\n",
       "    </tr>\n",
       "    <tr>\n",
       "      <th>996</th>\n",
       "      <td>808</td>\n",
       "      <td>Kimon Nicolaides/Mamie Harmon</td>\n",
       "      <td>The Natural Way to Draw</td>\n",
       "      <td>0</td>\n",
       "      <td>3.00</td>\n",
       "    </tr>\n",
       "    <tr>\n",
       "      <th>997</th>\n",
       "      <td>83</td>\n",
       "      <td>Faye Perozich/Anne Rice/John Bolton/Daerick Gröss</td>\n",
       "      <td>Anne Rice's The Vampire Lestat: A Graphic Novel</td>\n",
       "      <td>0</td>\n",
       "      <td>3.67</td>\n",
       "    </tr>\n",
       "    <tr>\n",
       "      <th>998</th>\n",
       "      <td>387</td>\n",
       "      <td>Leonardo da Vinci/H. Anna Suh</td>\n",
       "      <td>Leonardo's Notebooks</td>\n",
       "      <td>0</td>\n",
       "      <td>4.00</td>\n",
       "    </tr>\n",
       "    <tr>\n",
       "      <th>999</th>\n",
       "      <td>672</td>\n",
       "      <td>Dr. Seuss/Various</td>\n",
       "      <td>The Cat in the Hat and Other Dr. Seuss Favorites</td>\n",
       "      <td>0</td>\n",
       "      <td>5.00</td>\n",
       "    </tr>\n",
       "  </tbody>\n",
       "</table>\n",
       "<p>1000 rows × 5 columns</p>\n",
       "</div>"
      ],
      "text/plain": [
       "     book_id                                             author  \\\n",
       "0        948                                    Stephenie Meyer   \n",
       "1        750                                     J.R.R. Tolkien   \n",
       "2        673                                      J.D. Salinger   \n",
       "3        302                         J.K. Rowling/Mary GrandPré   \n",
       "4        299                         J.K. Rowling/Mary GrandPré   \n",
       "..       ...                                                ...   \n",
       "995      221                 Edgar Allan Poe/Benjamin F. Fisher   \n",
       "996      808                      Kimon Nicolaides/Mamie Harmon   \n",
       "997       83  Faye Perozich/Anne Rice/John Bolton/Daerick Gröss   \n",
       "998      387                      Leonardo da Vinci/H. Anna Suh   \n",
       "999      672                                  Dr. Seuss/Various   \n",
       "\n",
       "                                                 title  number_users_reviews  \\\n",
       "0                              Twilight (Twilight  #1)                  1120   \n",
       "1                  The Hobbit  or There and Back Again                   528   \n",
       "2                               The Catcher in the Rye                   516   \n",
       "3    Harry Potter and the Prisoner of Azkaban (Harr...                   492   \n",
       "4    Harry Potter and the Chamber of Secrets (Harry...                   480   \n",
       "..                                                 ...                   ...   \n",
       "995                          Essential Tales and Poems                     0   \n",
       "996                            The Natural Way to Draw                     0   \n",
       "997    Anne Rice's The Vampire Lestat: A Graphic Novel                     0   \n",
       "998                               Leonardo's Notebooks                     0   \n",
       "999   The Cat in the Hat and Other Dr. Seuss Favorites                     0   \n",
       "\n",
       "     average_rating  \n",
       "0              3.66  \n",
       "1              4.13  \n",
       "2              3.83  \n",
       "3              4.41  \n",
       "4              4.29  \n",
       "..              ...  \n",
       "995            4.00  \n",
       "996            3.00  \n",
       "997            3.67  \n",
       "998            4.00  \n",
       "999            5.00  \n",
       "\n",
       "[1000 rows x 5 columns]"
      ]
     },
     "metadata": {},
     "output_type": "display_data"
    }
   ],
   "source": [
    "query_task2 = \"\"\"\n",
    "-- Find the number of user reviews and the average rating for each book.\n",
    "SELECT books.book_id, \n",
    "    authors.author,\n",
    "    books.title, \n",
    "    COUNT(review_id) as number_users_reviews, \n",
    "    ROUND(AVG(ratings.rating),2) as average_rating\n",
    "FROM books\n",
    "    left join reviews on books.book_id = reviews.book_id \n",
    "    left join ratings on books.book_id = ratings.book_id \n",
    "    left join authors on books.author_id = authors.author_id \n",
    "group by books.book_id, authors.author_id\n",
    "order by number_users_reviews desc \n",
    "\"\"\"\n",
    "results = pd.io.sql.read_sql(query_task2, con = engine)\n",
    "display(results)"
   ]
  },
  {
   "cell_type": "markdown",
   "id": "2fe90fd1",
   "metadata": {},
   "source": [
    "**We processed the data and formed a table in which we counted the number of reviews for each book and the average book rating.**\n",
    "\n"
   ]
  },
  {
   "attachments": {
    "image.png": {
     "image/png": "[encoded data removed]"
    }
   },
   "cell_type": "markdown",
   "id": "431c963a",
   "metadata": {},
   "source": [
    "<div class=\"alert alert-block alert-danger\">\n",
    "    <h2>Reviewer's commentary <a class=\"tocSkip\"> </h2>\n",
    "    <br/>\n",
    "<b>Needs fixing!🤔:</b>\n",
    "        \n",
    "Here your result is not very correct, look at the expected result for this task\n",
    "        \n",
    "![image.png](attachment:image.png)\n",
    "        \n",
    "so now the number os users review is lower than expected. We can get the lower number of the review than expected when we calculate the DISITINCT count of the review, i.e. unique. In this task contrary we need to calculate all the reviews, the repeated too per each book."
   ]
  },
  {
   "cell_type": "markdown",
   "id": "e0334ccd",
   "metadata": {},
   "source": [
    "<div class=\"alert alert-block alert-success\">\n",
    "    <h2>Reviewer's commentary:second iteration of the review <a class=\"tocSkip\"> </h2>\n",
    "    <br/>\n",
    "<b>Well done!👍:</b> \n",
    "        \n",
    "Ok, Dima, this time the result is correct! Agree with your improvements here:)\n",
    "</div>"
   ]
  },
  {
   "cell_type": "markdown",
   "id": "bd931038",
   "metadata": {},
   "source": [
    "#### 3.3 Identify the publisher with the most books with more than 50 pages.\n"
   ]
  },
  {
   "cell_type": "code",
   "execution_count": 16,
   "id": "34292753",
   "metadata": {},
   "outputs": [
    {
     "data": {
      "text/html": [
       "<div>\n",
       "<style scoped>\n",
       "    .dataframe tbody tr th:only-of-type {\n",
       "        vertical-align: middle;\n",
       "    }\n",
       "\n",
       "    .dataframe tbody tr th {\n",
       "        vertical-align: top;\n",
       "    }\n",
       "\n",
       "    .dataframe thead th {\n",
       "        text-align: right;\n",
       "    }\n",
       "</style>\n",
       "<table border=\"1\" class=\"dataframe\">\n",
       "  <thead>\n",
       "    <tr style=\"text-align: right;\">\n",
       "      <th></th>\n",
       "      <th>publisher_id</th>\n",
       "      <th>publisher</th>\n",
       "      <th>count_books</th>\n",
       "    </tr>\n",
       "  </thead>\n",
       "  <tbody>\n",
       "    <tr>\n",
       "      <th>0</th>\n",
       "      <td>212</td>\n",
       "      <td>Penguin Books</td>\n",
       "      <td>42</td>\n",
       "    </tr>\n",
       "  </tbody>\n",
       "</table>\n",
       "</div>"
      ],
      "text/plain": [
       "   publisher_id      publisher  count_books\n",
       "0           212  Penguin Books           42"
      ]
     },
     "metadata": {},
     "output_type": "display_data"
    }
   ],
   "source": [
    "query_task3 = \"\"\"\n",
    "-- Identify the publisher that has released the greatest number of books with more than 50 pages\n",
    "select \n",
    "    distinct publishers.publisher_id \n",
    "    , publishers.publisher\n",
    "    , COUNT(books.book_id) OVER(PARTITION BY publishers.publisher_id) AS count_books \n",
    "from books \n",
    "    inner join publishers using(publisher_id)\n",
    "where books.num_pages > 50\n",
    "order by count_books desc\n",
    "limit 1\n",
    "\"\"\"\n",
    "results = pd.io.sql.read_sql(query_task3, con = engine)\n",
    "display(results[:5])"
   ]
  },
  {
   "cell_type": "markdown",
   "id": "c4b11085",
   "metadata": {},
   "source": [
    "**After performing the query, we found out that the Penguin Books publisher has released the most books.**\n",
    "\n"
   ]
  },
  {
   "cell_type": "markdown",
   "id": "fd190f88",
   "metadata": {},
   "source": [
    "<div class=\"alert alert-block alert-success\">\n",
    "    <h2>Reviewer's commentary <a class=\"tocSkip\"> </h2>\n",
    "    <br/>\n",
    "<b>Well done!👍:</b> \n",
    "        \n",
    "Ok, I can agree with your decision here, good job!\n",
    "</div>"
   ]
  },
  {
   "cell_type": "markdown",
   "id": "dc1c22b8",
   "metadata": {},
   "source": [
    "### 3.4 Identify the author with the highest average book rating.\n"
   ]
  },
  {
   "cell_type": "markdown",
   "id": "904250fe",
   "metadata": {},
   "source": [
    "##### 3.4.1 The author of the book with the highest rating.\n"
   ]
  },
  {
   "cell_type": "code",
   "execution_count": 17,
   "id": "c4bd4407",
   "metadata": {},
   "outputs": [
    {
     "data": {
      "text/html": [
       "<div>\n",
       "<style scoped>\n",
       "    .dataframe tbody tr th:only-of-type {\n",
       "        vertical-align: middle;\n",
       "    }\n",
       "\n",
       "    .dataframe tbody tr th {\n",
       "        vertical-align: top;\n",
       "    }\n",
       "\n",
       "    .dataframe thead th {\n",
       "        text-align: right;\n",
       "    }\n",
       "</style>\n",
       "<table border=\"1\" class=\"dataframe\">\n",
       "  <thead>\n",
       "    <tr style=\"text-align: right;\">\n",
       "      <th></th>\n",
       "      <th>book_id</th>\n",
       "      <th>title</th>\n",
       "      <th>author</th>\n",
       "      <th>avg_rating</th>\n",
       "    </tr>\n",
       "  </thead>\n",
       "  <tbody>\n",
       "    <tr>\n",
       "      <th>0</th>\n",
       "      <td>302</td>\n",
       "      <td>Harry Potter and the Prisoner of Azkaban (Harr...</td>\n",
       "      <td>J.K. Rowling/Mary GrandPré</td>\n",
       "      <td>4.41</td>\n",
       "    </tr>\n",
       "  </tbody>\n",
       "</table>\n",
       "</div>"
      ],
      "text/plain": [
       "   book_id                                              title  \\\n",
       "0      302  Harry Potter and the Prisoner of Azkaban (Harr...   \n",
       "\n",
       "                       author  avg_rating  \n",
       "0  J.K. Rowling/Mary GrandPré        4.41  "
      ]
     },
     "metadata": {},
     "output_type": "display_data"
    }
   ],
   "source": [
    "query_task4 = \"\"\"\n",
    "-- Identify the author with the highest average book rating (look only at books with at least 50 ratings).\n",
    "with books_rating(book_id,title,author,count_marks,avg_rating)\n",
    "as (\n",
    "select \n",
    "   distinct book_id\n",
    "   , books.title \n",
    "   , authors.author \n",
    "   , count(rating_id) over (partition by book_id) as count_marks\n",
    "   , round(avg(rating) over (partition by book_id),2) as avg_rating\n",
    "from books \n",
    "    left join ratings using(book_id)\n",
    "    left join authors using(author_id)\n",
    ")\n",
    "select \n",
    "    book_id\n",
    "    , title\n",
    "    , author\n",
    "    , avg_rating\n",
    "from books_rating\n",
    "where \n",
    "    (count_marks > 50) and avg_rating = \n",
    "       (\n",
    "        select avg_rating \n",
    "        from books_rating\n",
    "        where count_marks > 50\n",
    "        order by avg_rating desc\n",
    "        limit 1\n",
    "        )\n",
    "\"\"\"\n",
    "results = pd.io.sql.read_sql(query_task4, con = engine)\n",
    "display(results[:5])"
   ]
  },
  {
   "cell_type": "markdown",
   "id": "9e5992f6",
   "metadata": {},
   "source": [
    "**After performing the query, we found out that J.K. Rowling is the author of the top-rated book itself.**\n",
    "\n"
   ]
  },
  {
   "cell_type": "markdown",
   "id": "8efba866",
   "metadata": {},
   "source": [
    "<div class=\"alert alert-block alert-success\">\n",
    "    <h2>Reviewer's commentary <a class=\"tocSkip\"> </h2>\n",
    "    <br/>\n",
    "<b>Well done!👍:</b> \n",
    "        \n",
    "Absolutely right!\n",
    "</div>"
   ]
  },
  {
   "cell_type": "markdown",
   "id": "3c1fde58",
   "metadata": {},
   "source": [
    "#### 3.4.2 Author of top-rated books.\n"
   ]
  },
  {
   "cell_type": "code",
   "execution_count": 18,
   "id": "aa303fbd",
   "metadata": {},
   "outputs": [
    {
     "data": {
      "text/html": [
       "<div>\n",
       "<style scoped>\n",
       "    .dataframe tbody tr th:only-of-type {\n",
       "        vertical-align: middle;\n",
       "    }\n",
       "\n",
       "    .dataframe tbody tr th {\n",
       "        vertical-align: top;\n",
       "    }\n",
       "\n",
       "    .dataframe thead th {\n",
       "        text-align: right;\n",
       "    }\n",
       "</style>\n",
       "<table border=\"1\" class=\"dataframe\">\n",
       "  <thead>\n",
       "    <tr style=\"text-align: right;\">\n",
       "      <th></th>\n",
       "      <th>author</th>\n",
       "      <th>average_rating</th>\n",
       "    </tr>\n",
       "  </thead>\n",
       "  <tbody>\n",
       "    <tr>\n",
       "      <th>0</th>\n",
       "      <td>J.K. Rowling/Mary GrandPré</td>\n",
       "      <td>4.283844</td>\n",
       "    </tr>\n",
       "  </tbody>\n",
       "</table>\n",
       "</div>"
      ],
      "text/plain": [
       "                       author  average_rating\n",
       "0  J.K. Rowling/Mary GrandPré        4.283844"
      ]
     },
     "metadata": {},
     "output_type": "display_data"
    }
   ],
   "source": [
    "query_task4_1 = '''\n",
    "SELECT\n",
    "    authors.author,\n",
    "    AVG(subquery_ratings.avg_rating) AS average_rating\n",
    "FROM\n",
    "    books\n",
    "    LEFT JOIN (\n",
    "        SELECT \n",
    "            book_id,\n",
    "            AVG(rating) AS avg_rating,\n",
    "            COUNT(rating) AS rating_qty\n",
    "        FROM\n",
    "            ratings\n",
    "        GROUP BY\n",
    "            book_id\n",
    "    ) AS subquery_ratings ON subquery_ratings.book_id = books.book_id\n",
    "    LEFT JOIN authors ON authors.author_id = books.author_id\n",
    "WHERE\n",
    "    rating_qty > 50\n",
    "GROUP BY\n",
    "    author\n",
    "ORDER BY\n",
    "    average_rating DESC\n",
    "LIMIT 1\n",
    "'''\n",
    "results = pd.io.sql.read_sql(query_task4_1, con = engine)\n",
    "display(results[:5])"
   ]
  },
  {
   "cell_type": "markdown",
   "id": "b7ffb04a",
   "metadata": {},
   "source": [
    "**After completing the request, we found out that J.K. Rowling is the author whose books have the highest ratings.**\n",
    "\n"
   ]
  },
  {
   "cell_type": "markdown",
   "id": "f0ef5243",
   "metadata": {},
   "source": [
    "\n",
    "<div class=\"alert alert-block alert-warning\">\n",
    "   <h2>Reviewer's commentary <a class=\"tocSkip\"> </h2>\n",
    "    <br/>\n",
    "<b>Remarks and recommendations📌:</b>  \n",
    "       \n",
    "The code is repeated here, it is better to remove the dublicated code.\n",
    "</div>"
   ]
  },
  {
   "cell_type": "markdown",
   "id": "5fa75cd0",
   "metadata": {},
   "source": [
    "### 3.5 Find the average number of text reviews among users who rated more than 50 books.\n"
   ]
  },
  {
   "cell_type": "code",
   "execution_count": 19,
   "id": "1eda3e0f",
   "metadata": {},
   "outputs": [
    {
     "data": {
      "text/html": [
       "<div>\n",
       "<style scoped>\n",
       "    .dataframe tbody tr th:only-of-type {\n",
       "        vertical-align: middle;\n",
       "    }\n",
       "\n",
       "    .dataframe tbody tr th {\n",
       "        vertical-align: top;\n",
       "    }\n",
       "\n",
       "    .dataframe thead th {\n",
       "        text-align: right;\n",
       "    }\n",
       "</style>\n",
       "<table border=\"1\" class=\"dataframe\">\n",
       "  <thead>\n",
       "    <tr style=\"text-align: right;\">\n",
       "      <th></th>\n",
       "      <th>avg_reviews</th>\n",
       "    </tr>\n",
       "  </thead>\n",
       "  <tbody>\n",
       "    <tr>\n",
       "      <th>0</th>\n",
       "      <td>24.33</td>\n",
       "    </tr>\n",
       "  </tbody>\n",
       "</table>\n",
       "</div>"
      ],
      "text/plain": [
       "   avg_reviews\n",
       "0        24.33"
      ]
     },
     "metadata": {},
     "output_type": "display_data"
    }
   ],
   "source": [
    "query_task5 = \"\"\"\n",
    "-- Task 5. Find the average number of text reviews among users who rated more than 50 books. \n",
    "with users_rated_50_plus (username)\n",
    "as (\n",
    "select \n",
    "   ratings.username \n",
    "from ratings \n",
    "group by username\n",
    "having count(rating_id) > 50\n",
    "),\n",
    "users_count_reviews (username, count_reviews)\n",
    "as (\n",
    "    SELECT \n",
    "        distinct username\n",
    "        , COUNT(review_id) over (partition by username) as count_reviews\n",
    "    from users_rated_50_plus\n",
    "        inner join reviews USING(username)\n",
    ")\n",
    "select ROUND(AVG(count_reviews),2) as AVG_REVIEWS \n",
    "from users_count_reviews\n",
    "\"\"\"\n",
    "results = pd.io.sql.read_sql(query_task5, con = engine)\n",
    "display(results[:5])\n"
   ]
  },
  {
   "cell_type": "markdown",
   "id": "30aecc9f",
   "metadata": {},
   "source": [
    "<div class=\"alert alert-block alert-success\">\n",
    "    <h2>Reviewer's commentary <a class=\"tocSkip\"> </h2>\n",
    "    <br/>\n",
    "<b>Well done!👍:</b> \n",
    "        \n",
    "Correct!\n",
    "</div>"
   ]
  },
  {
   "cell_type": "markdown",
   "id": "fedd36b9",
   "metadata": {},
   "source": [
    "**After performing the query, we found out that, on average, users make 24.33 reviews.**\n",
    "\n"
   ]
  },
  {
   "cell_type": "markdown",
   "id": "ab072b93",
   "metadata": {},
   "source": [
    "<div style=\"border:solid Chocolate 2px; padding: 40px\">\n",
    "\n",
    "**The overall review conclusion**\n",
    "\n",
    "Dima, thank you for submitting your project! I can see that you've worked really hard on it! I'm really impressed this the amount of work you have done. But there are several things in your project which I suppose it is important to fix, my comments will navigate you.\n",
    "\n",
    "\n",
    "**Good things and practices in your project I want to highlight🙂**:\n",
    "\n",
    "* You used different methods for working with your data. It is really great that you can apply these methods on practice, keep it up!\n",
    "* It is great that you formulated conclusions and explanations after each step of the analysis.\n",
    "\n",
    "    \n",
    "**What is worth working on👀**:\n",
    "\n",
    "* all the recommendations you can find in my comments, please, try to work on them, one query needs to be improved.\n",
    "\n",
    "\n",
    "**Good luck! I will wait for your work for a second iteration of the review!😉**\n",
    "![gif](https://media.giphy.com/media/VbnUQpnihPSIgIXuZv/giphy.gif)  "
   ]
  },
  {
   "cell_type": "markdown",
   "id": "ef55895b",
   "metadata": {},
   "source": [
    "<div style=\"border:solid Chocolate 2px; padding: 40px\">\n",
    "\n",
    "**The overall review conclusion: second iteration of the review**\n",
    "\n",
    "Dima, thank you for submitting your project with corrections!😉 \n",
    "    \n",
    "You did a great job to improve the project, I can see your progress, so I hasten to say that your project has been accepted and you can proceed to the next sprint!\n",
    "    \n",
    "**I wish you exciting and cool projects in the next sprints!**"
   ]
  },
  {
   "cell_type": "code",
   "execution_count": null,
   "id": "f8a3acca",
   "metadata": {},
   "outputs": [],
   "source": []
  }
 ],
 "metadata": {
  "ExecuteTimeLog": [
   {
    "duration": 3,
    "start_time": "2022-04-13T16:25:57.061Z"
   },
   {
    "duration": 506,
    "start_time": "2022-04-13T16:25:57.071Z"
   },
   {
    "duration": 10607,
    "start_time": "2022-04-13T16:25:57.578Z"
   },
   {
    "duration": 2,
    "start_time": "2022-04-13T16:26:08.187Z"
   },
   {
    "duration": 39,
    "start_time": "2022-04-13T16:26:08.191Z"
   },
   {
    "duration": 2,
    "start_time": "2022-04-13T16:26:08.232Z"
   },
   {
    "duration": 12,
    "start_time": "2022-04-13T16:26:08.235Z"
   },
   {
    "duration": 2,
    "start_time": "2022-04-13T16:26:08.248Z"
   },
   {
    "duration": 13,
    "start_time": "2022-04-13T16:26:08.251Z"
   },
   {
    "duration": 2,
    "start_time": "2022-04-13T16:26:08.266Z"
   },
   {
    "duration": 12,
    "start_time": "2022-04-13T16:26:08.269Z"
   },
   {
    "duration": 2,
    "start_time": "2022-04-13T16:26:08.282Z"
   },
   {
    "duration": 13,
    "start_time": "2022-04-13T16:26:08.285Z"
   },
   {
    "duration": 8,
    "start_time": "2022-04-13T16:26:08.299Z"
   },
   {
    "duration": 37,
    "start_time": "2022-04-13T16:26:08.309Z"
   },
   {
    "duration": 11,
    "start_time": "2022-04-13T16:26:08.348Z"
   },
   {
    "duration": 19,
    "start_time": "2022-04-13T16:26:08.361Z"
   },
   {
    "duration": 17,
    "start_time": "2022-04-13T16:26:08.382Z"
   },
   {
    "duration": 10,
    "start_time": "2022-04-13T16:26:08.401Z"
   },
   {
    "duration": 14,
    "start_time": "2022-04-13T16:42:34.469Z"
   },
   {
    "duration": 51,
    "start_time": "2022-04-14T06:01:47.095Z"
   },
   {
    "duration": 3,
    "start_time": "2022-04-14T06:01:58.203Z"
   },
   {
    "duration": 559,
    "start_time": "2022-04-14T06:01:58.207Z"
   },
   {
    "duration": 18688,
    "start_time": "2022-04-14T06:01:58.768Z"
   },
   {
    "duration": 2,
    "start_time": "2022-04-14T06:02:17.458Z"
   },
   {
    "duration": 48,
    "start_time": "2022-04-14T06:02:17.462Z"
   },
   {
    "duration": 2,
    "start_time": "2022-04-14T06:02:17.512Z"
   },
   {
    "duration": 16,
    "start_time": "2022-04-14T06:02:17.516Z"
   },
   {
    "duration": 2,
    "start_time": "2022-04-14T06:02:17.534Z"
   },
   {
    "duration": 15,
    "start_time": "2022-04-14T06:02:17.538Z"
   },
   {
    "duration": 2,
    "start_time": "2022-04-14T06:02:17.555Z"
   },
   {
    "duration": 17,
    "start_time": "2022-04-14T06:02:17.560Z"
   },
   {
    "duration": 3,
    "start_time": "2022-04-14T06:02:17.578Z"
   },
   {
    "duration": 15,
    "start_time": "2022-04-14T06:02:17.583Z"
   },
   {
    "duration": 11,
    "start_time": "2022-04-14T06:02:17.600Z"
   },
   {
    "duration": 49,
    "start_time": "2022-04-14T06:02:17.612Z"
   },
   {
    "duration": 14,
    "start_time": "2022-04-14T06:02:17.662Z"
   },
   {
    "duration": 26,
    "start_time": "2022-04-14T06:02:17.677Z"
   },
   {
    "duration": 20,
    "start_time": "2022-04-14T06:02:17.705Z"
   },
   {
    "duration": 13,
    "start_time": "2022-04-14T06:02:17.726Z"
   },
   {
    "duration": 32,
    "start_time": "2022-04-14T06:02:47.428Z"
   },
   {
    "duration": 31,
    "start_time": "2022-04-14T06:04:24.862Z"
   },
   {
    "duration": 208,
    "start_time": "2022-04-14T06:09:25.120Z"
   },
   {
    "duration": 452,
    "start_time": "2022-04-14T06:10:26.029Z"
   },
   {
    "duration": 24,
    "start_time": "2022-04-14T06:10:52.766Z"
   },
   {
    "duration": 21,
    "start_time": "2022-04-14T06:11:44.666Z"
   },
   {
    "duration": 209,
    "start_time": "2022-04-14T06:12:15.015Z"
   },
   {
    "duration": 186,
    "start_time": "2022-04-14T06:12:38.849Z"
   },
   {
    "duration": 24,
    "start_time": "2022-04-14T06:13:12.619Z"
   },
   {
    "duration": 22,
    "start_time": "2022-04-14T06:13:47.808Z"
   },
   {
    "duration": 203,
    "start_time": "2022-04-14T06:14:40.818Z"
   },
   {
    "duration": 204,
    "start_time": "2022-04-14T06:14:54.145Z"
   },
   {
    "duration": 201,
    "start_time": "2022-04-14T06:15:39.724Z"
   },
   {
    "duration": 20,
    "start_time": "2022-04-14T06:16:12.301Z"
   },
   {
    "duration": 5,
    "start_time": "2022-04-14T06:23:17.201Z"
   },
   {
    "duration": 4,
    "start_time": "2022-04-14T06:25:22.480Z"
   },
   {
    "duration": 22,
    "start_time": "2022-04-14T06:27:08.212Z"
   },
   {
    "duration": 3,
    "start_time": "2022-04-14T06:34:01.550Z"
   },
   {
    "duration": 14,
    "start_time": "2022-04-14T06:34:37.213Z"
   },
   {
    "duration": 158,
    "start_time": "2022-04-14T06:38:04.363Z"
   },
   {
    "duration": 15,
    "start_time": "2022-04-14T06:40:03.697Z"
   },
   {
    "duration": 4,
    "start_time": "2022-04-14T09:03:33.552Z"
   },
   {
    "duration": 489,
    "start_time": "2022-04-14T09:03:33.558Z"
   },
   {
    "duration": 10659,
    "start_time": "2022-04-14T09:03:34.049Z"
   },
   {
    "duration": 4,
    "start_time": "2022-04-14T09:03:44.710Z"
   },
   {
    "duration": 47,
    "start_time": "2022-04-14T09:03:44.715Z"
   },
   {
    "duration": 2,
    "start_time": "2022-04-14T09:03:44.764Z"
   },
   {
    "duration": 15,
    "start_time": "2022-04-14T09:03:44.770Z"
   },
   {
    "duration": 3,
    "start_time": "2022-04-14T09:03:44.787Z"
   },
   {
    "duration": 16,
    "start_time": "2022-04-14T09:03:44.792Z"
   },
   {
    "duration": 3,
    "start_time": "2022-04-14T09:03:44.809Z"
   },
   {
    "duration": 16,
    "start_time": "2022-04-14T09:03:44.813Z"
   },
   {
    "duration": 3,
    "start_time": "2022-04-14T09:03:44.830Z"
   },
   {
    "duration": 16,
    "start_time": "2022-04-14T09:03:44.835Z"
   },
   {
    "duration": 12,
    "start_time": "2022-04-14T09:03:44.853Z"
   },
   {
    "duration": 58,
    "start_time": "2022-04-14T09:03:44.866Z"
   },
   {
    "duration": 17,
    "start_time": "2022-04-14T09:03:44.926Z"
   },
   {
    "duration": 22,
    "start_time": "2022-04-14T09:03:44.944Z"
   },
   {
    "duration": 13,
    "start_time": "2022-04-14T09:03:44.968Z"
   },
   {
    "duration": 11,
    "start_time": "2022-04-14T09:03:44.983Z"
   },
   {
    "duration": 5,
    "start_time": "2022-06-08T15:32:03.006Z"
   },
   {
    "duration": 675,
    "start_time": "2022-06-08T15:32:03.019Z"
   },
   {
    "duration": 197,
    "start_time": "2022-06-08T15:32:03.696Z"
   },
   {
    "duration": 3,
    "start_time": "2022-06-08T15:32:03.896Z"
   },
   {
    "duration": 380,
    "start_time": "2022-06-08T15:32:03.901Z"
   },
   {
    "duration": 2,
    "start_time": "2022-06-08T15:32:04.283Z"
   },
   {
    "duration": 101,
    "start_time": "2022-06-08T15:32:04.286Z"
   },
   {
    "duration": 3,
    "start_time": "2022-06-08T15:32:04.389Z"
   },
   {
    "duration": 97,
    "start_time": "2022-06-08T15:32:04.395Z"
   },
   {
    "duration": 2,
    "start_time": "2022-06-08T15:32:04.495Z"
   },
   {
    "duration": 104,
    "start_time": "2022-06-08T15:32:04.499Z"
   },
   {
    "duration": 3,
    "start_time": "2022-06-08T15:32:04.605Z"
   },
   {
    "duration": 85,
    "start_time": "2022-06-08T15:32:04.611Z"
   },
   {
    "duration": 76,
    "start_time": "2022-06-08T15:32:04.699Z"
   },
   {
    "duration": 125,
    "start_time": "2022-06-08T15:32:04.777Z"
   },
   {
    "duration": 79,
    "start_time": "2022-06-08T15:32:04.905Z"
   },
   {
    "duration": 91,
    "start_time": "2022-06-08T15:32:04.987Z"
   },
   {
    "duration": 83,
    "start_time": "2022-06-08T15:32:05.081Z"
   },
   {
    "duration": 80,
    "start_time": "2022-06-08T15:32:05.166Z"
   }
  ],
  "kernelspec": {
   "display_name": "Python 3 (ipykernel)",
   "language": "python",
   "name": "python3"
  },
  "language_info": {
   "codemirror_mode": {
    "name": "ipython",
    "version": 3
   },
   "file_extension": ".py",
   "mimetype": "text/x-python",
   "name": "python",
   "nbconvert_exporter": "python",
   "pygments_lexer": "ipython3",
   "version": "3.9.5"
  },
  "toc": {
   "base_numbering": 1,
   "nav_menu": {},
   "number_sections": true,
   "sideBar": true,
   "skip_h1_title": true,
   "title_cell": "Table of Contents",
   "title_sidebar": "Contents",
   "toc_cell": false,
   "toc_position": {},
   "toc_section_display": true,
   "toc_window_display": false
  }
 },
 "nbformat": 4,
 "nbformat_minor": 5
}
